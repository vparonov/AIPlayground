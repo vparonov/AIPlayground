{
  "nbformat": 4,
  "nbformat_minor": 0,
  "metadata": {
    "colab": {
      "name": "MagicDarts_2021_03_19.ipynb",
      "provenance": [],
      "collapsed_sections": [],
      "authorship_tag": "ABX9TyNVSC9cVXCQgxrKhyk6+bN/",
      "include_colab_link": true
    },
    "kernelspec": {
      "name": "python3",
      "display_name": "Python 3"
    },
    "language_info": {
      "name": "python"
    },
    "accelerator": "GPU"
  },
  "cells": [
    {
      "cell_type": "markdown",
      "metadata": {
        "id": "view-in-github",
        "colab_type": "text"
      },
      "source": [
        "<a href=\"https://colab.research.google.com/github/vparonov/AIPlayground/blob/main/MagicDarts_2021_03_19.ipynb\" target=\"_parent\"><img src=\"https://colab.research.google.com/assets/colab-badge.svg\" alt=\"Open In Colab\"/></a>"
      ]
    },
    {
      "cell_type": "code",
      "metadata": {
        "colab": {
          "base_uri": "https://localhost:8080/"
        },
        "id": "LocUPSYwwWVG",
        "outputId": "d69fcac5-0b8d-4bc4-9b3f-7778d06442d8"
      },
      "source": [
        "from google.colab import drive\n",
        "drive.mount('/content/drive')"
      ],
      "execution_count": 1,
      "outputs": [
        {
          "output_type": "stream",
          "text": [
            "Mounted at /content/drive\n"
          ],
          "name": "stdout"
        }
      ]
    },
    {
      "cell_type": "code",
      "metadata": {
        "id": "1y1R9DhXwetr"
      },
      "source": [
        "import h5py\n",
        "import numpy as np\n",
        "import time\n",
        "import torch #pytorch\n",
        "import torch.nn as nn\n",
        "from torch.autograd import Variable \n",
        "from torch.utils.data import Dataset, DataLoader\n",
        "import matplotlib.pyplot as plt"
      ],
      "execution_count": 2,
      "outputs": []
    },
    {
      "cell_type": "code",
      "metadata": {
        "id": "JazvW6IQwg7y"
      },
      "source": [
        "def getFullPath(fileName):\n",
        "  return 'drive/MyDrive/darts_data/' + fileName"
      ],
      "execution_count": 3,
      "outputs": []
    },
    {
      "cell_type": "code",
      "metadata": {
        "id": "daPv7XjEwmfR"
      },
      "source": [
        "class MagicDartsDataset(Dataset):\n",
        "    \"\"\"Magic Darts Dataset\"\"\"\n",
        "\n",
        "    def __init__(self, h5_files, noise=True, transform=None):\n",
        "        \"\"\"\n",
        "        Args:\n",
        "            h5_file (string): Path to the h5 file.\n",
        "            transform (callable, optional): Optional transform to be applied\n",
        "                on a sample.\n",
        "        \"\"\"\n",
        "        self.f = [] \n",
        "        \n",
        "        for h5_file in h5_files:\n",
        "          self.f.append(h5py.File(h5_file,'r'))\n",
        "\n",
        "        dshape = self.f[0]['cur_time'].shape\n",
        "        self.dataShape = dshape[:-1]\n",
        "        self.timeDimSize = dshape[-1]\n",
        "\n",
        "        nitems = 1 \n",
        "        for s in self.dataShape:\n",
        "          nitems *= s\n",
        "\n",
        "        self.dataLen = nitems * len(h5_files)\n",
        "        self.noise = noise \n",
        "\n",
        "        self.transform = transform\n",
        "        \n",
        "        if (noise == True):\n",
        "          self.x_keys = ['cur_time', \n",
        "                        'x_hat_0', 'y_hat_0', 'z_hat_0',\n",
        "                        'vx_cur_esti','vy_cur_esti','vz_cur_esti']\n",
        "        else:\n",
        "          self.x_keys =['cur_time', 'x_cur_clear', 'y_cur_clear', 'z_cur_clear',\n",
        "                  'vx_cur_clear', 'vy_cur_clear', 'vz_cur_clear']\n",
        "\n",
        "\n",
        "\n",
        "        self.y_keys = ['t_hit', 'x_results_real','y_results_real','z_results_real', \n",
        "                       'vx_cur_clear', 'vy_cur_clear', 'vz_cur_clear' ]\n",
        "\n",
        "        x_preloaded = torch.zeros(self.dataLen, self.timeDimSize, len(self.x_keys)+1)\n",
        "        y_preloaded = torch.empty(self.dataLen, 1, len(self.y_keys) + 1)\n",
        "\n",
        "        for file_id, f in enumerate(self.f):\n",
        "          for i, k in enumerate(self.x_keys):\n",
        "            x_preloaded[file_id*nitems:(file_id*nitems + nitems), :, i] = torch.tensor(f[k][:].reshape(nitems, -1))\n",
        "\n",
        "          for i, k in enumerate(self.y_keys):\n",
        "            y_preloaded[file_id*nitems:(file_id*nitems + nitems), 0, i] = torch.tensor(f[k][:,:,:,-1].reshape(nitems))\n",
        "\n",
        "        self.preloaded = torch.hstack((x_preloaded, y_preloaded))\n",
        "        \n",
        "    def getDataLen(self):\n",
        "        return self.dataLen\n",
        "\n",
        "    def indexToDims(self, idx):\n",
        "      return idx \n",
        "\n",
        "    def __len__(self):\n",
        "        return self.dataLen\n",
        "\n",
        "    def __getitem__(self, idx):\n",
        "\n",
        "        traj_ix = self.indexToDims(idx)\n",
        "\n",
        "        x = self.preloaded[traj_ix,:-1,:]\n",
        "        y = self.preloaded[traj_ix,-1,(1, 3)]\n",
        "\n",
        "        sample = {'x':x, 'y': y, 'traj_ix': traj_ix}\n",
        "\n",
        "        if self.transform:\n",
        "            sample = self.transform(sample)\n",
        "          \n",
        "        return sample"
      ],
      "execution_count": 4,
      "outputs": []
    },
    {
      "cell_type": "code",
      "metadata": {
        "id": "4oLLdOIcwv77"
      },
      "source": [
        "class RandomPoints:\n",
        "  def __init__(self, \n",
        "               placeholder_value, \n",
        "               max_time_points, \n",
        "               min_time_points = 0, \n",
        "               fixed_points = 0):\n",
        "    \n",
        "    self.placeholder_value = placeholder_value\n",
        "    self.max_time_points = max_time_points\n",
        "    self.min_time_points = min_time_points\n",
        "    self.fixed_points = fixed_points\n",
        "\n",
        "    self.all_ixes = np.arange(max_time_points)\n",
        "\n",
        "  def __call__(self, sample):\n",
        "    np.random.shuffle(self.all_ixes)\n",
        "\n",
        "\n",
        "    if self.fixed_points > 0 :\n",
        "      points = self.max_time_points  - self.fixed_points\n",
        "    else:\n",
        "      points = self.max_time_points - np.random.randint(self.min_time_points, self.max_time_points)\n",
        "\n",
        "    ixes = np.sort(self.all_ixes[:points])\n",
        "    x = sample['x'].clone().detach()\n",
        "    #leave the cur_time value\n",
        "    x[ixes, 1:-1] = self.placeholder_value#torch.tensor(float('nan'))\n",
        "    x[ixes, -1] = 1\n",
        "    return {'x': x, 'y': sample['y'], 'traj_ix':sample['traj_ix']}\n"
      ],
      "execution_count": 11,
      "outputs": []
    },
    {
      "cell_type": "code",
      "metadata": {
        "id": "lsil5RWEADKI"
      },
      "source": [
        "\n",
        "ds = MagicDartsDataset([getFullPath('input_para_2021_03_10_file_1_cut_share.h5'), \n",
        "                                   getFullPath('input_para_2021_03_10_file_2_cut_share.h5'),\n",
        "                                   getFullPath('input_para_2021_03_10_file_3_cut_share.h5'),\n",
        "                                   getFullPath('input_para_2021_03_10_file_4_cut_share.h5')], noise=False, transform = RandomPoints(0, 52))\n",
        "\n",
        "sample = ds[0]\n",
        "\n",
        "print(sample)"
      ],
      "execution_count": null,
      "outputs": []
    },
    {
      "cell_type": "code",
      "metadata": {
        "id": "oSLU0gdSCuHo"
      },
      "source": [
        "class LSTMTrial4(nn.Module):\n",
        "  def __init__(self, input_size, hidden_size, output_size, num_layers, dropout):\n",
        "    super(LSTMTrial4, self).__init__()\n",
        "\n",
        "    self.input_size = input_size \n",
        "    self.hidden_size = hidden_size\n",
        "    self.output_size = output_size \n",
        "    self.num_layers = num_layers \n",
        " \n",
        "    self.fc_1 =  nn.Linear(input_size, 256) #fully connected 1\n",
        "    self.fc =  nn.Linear(256, 128) #fully connected 1\n",
        "  \n",
        "    self.lstm = nn.LSTM(input_size=128, hidden_size=hidden_size,\n",
        "                    num_layers=num_layers, \n",
        "                    batch_first=True, \n",
        "                    dropout=dropout) #lstm\n",
        "\n",
        "    self.fc_2 =  nn.Linear(hidden_size, 256)\n",
        "    self.fc_3 =  nn.Linear(256, hidden_size)\n",
        "\n",
        "    self.fc_out =  nn.Linear(hidden_size, output_size) #fc output\n",
        "  \n",
        "    self.relu = nn.ReLU() \n",
        "\n",
        "  def forward(self,x):\n",
        "\n",
        "      hidden = self.fc_1(x) #first Dense\n",
        "\n",
        "      hidden = self.relu(hidden) \n",
        "\n",
        "      hidden = self.fc(hidden) #\n",
        "       \n",
        "      h_0 = Variable(torch.zeros(\n",
        "            self.num_layers, hidden.size(0), self.hidden_size)).to('cuda') #hidden state\n",
        "      \n",
        "      c_0 = Variable(torch.zeros(\n",
        "          self.num_layers, hidden.size(0), self.hidden_size)).to('cuda') #internal state\n",
        "    \n",
        "      # Propagate input through LSTM\n",
        "\n",
        "      output, (hn, cn) = self.lstm(hidden, (h_0, c_0)) #lstm with input, hidden, and internal state\n",
        "\n",
        "      h = hn[-1,:,:].view(-1, self.hidden_size)\n",
        "\n",
        "      h = self.relu(h) \n",
        "\n",
        "      h = self.fc_2(h)\n",
        "      h = self.relu(h) \n",
        "\n",
        "      h = self.fc_3(h)\n",
        "      h = self.relu(h) \n",
        "\n",
        "\n",
        "      out = self.fc_out(h)\n",
        "\n",
        "      return out"
      ],
      "execution_count": 13,
      "outputs": []
    },
    {
      "cell_type": "code",
      "metadata": {
        "colab": {
          "base_uri": "https://localhost:8080/"
        },
        "id": "RP0QT2oqC2SD",
        "outputId": "cfe46aab-53b5-43e7-8105-4db752a155ef"
      },
      "source": [
        "ds = MagicDartsDataset([getFullPath('input_para_2021_03_10_file_1_cut_share.h5'), \n",
        "                                   getFullPath('input_para_2021_03_10_file_2_cut_share.h5'),\n",
        "                                   getFullPath('input_para_2021_03_10_file_3_cut_share.h5'),\n",
        "                                   getFullPath('input_para_2021_03_10_file_4_cut_share.h5')], noise=False, transform = RandomPoints(0, 52))\n",
        "\n",
        "train_size = int(0.9 * len(ds))\n",
        "test_size = len(ds) - train_size\n",
        "train_dataset, test_dataset = torch.utils.data.random_split(ds, [train_size, test_size])\n",
        "\n",
        "print(len(train_dataset), len(test_dataset))\n",
        "\n",
        "batch_size = 1000\n",
        "train_dataloader = DataLoader(train_dataset, batch_size=batch_size,\n",
        "                        shuffle=True, num_workers=0)"
      ],
      "execution_count": 14,
      "outputs": [
        {
          "output_type": "stream",
          "text": [
            "21600 2400\n"
          ],
          "name": "stdout"
        }
      ]
    },
    {
      "cell_type": "code",
      "metadata": {
        "id": "Ql8Xi7ilAMkN"
      },
      "source": [
        "f = open(\"drive/MyDrive/darts_data/test_traj_ixes_2021_03_20.txt\", \"w\")\n",
        "\n",
        "test_dataloader = DataLoader(test_dataset, batch_size=1,\n",
        "                        shuffle=True, num_workers=0)\n",
        "for batch, sample in enumerate(test_dataloader):\n",
        "  traj_ix = sample['traj_ix']\n",
        "  f.write(\"%d\\n\".format(traj_ix.item()))\n",
        "f.close()"
      ],
      "execution_count": 15,
      "outputs": []
    },
    {
      "cell_type": "code",
      "metadata": {
        "colab": {
          "base_uri": "https://localhost:8080/"
        },
        "id": "TwDdmNbRC_rT",
        "outputId": "39fb1eb5-528b-4b67-ea1e-d20d0090bd58"
      },
      "source": [
        "learning_rate = 0.0001 \n",
        "\n",
        "input_size = 8\n",
        "hidden_size = 256\n",
        "num_layers = 3\n",
        "\n",
        "output_size = 2 \n",
        "dropout  = 0.5\n",
        "\n",
        "model = LSTMTrial4(input_size = input_size, \n",
        "                   hidden_size = hidden_size, \n",
        "                   output_size = output_size, \n",
        "                   num_layers = num_layers, \n",
        "                   dropout = dropout)\n",
        "\n",
        "criterion = torch.nn.MSELoss()    # mean-squared error for regression\n",
        "\n",
        "optimizer = torch.optim.Adam(model.parameters(), lr=learning_rate) \n",
        "\n",
        "device = torch.device('cuda' if torch.cuda.is_available() else 'cpu')\n",
        "model = model.to(device)\n",
        "print(device)"
      ],
      "execution_count": 16,
      "outputs": [
        {
          "output_type": "stream",
          "text": [
            "cuda\n"
          ],
          "name": "stdout"
        }
      ]
    },
    {
      "cell_type": "code",
      "metadata": {
        "id": "QhnPXn5fDFhB"
      },
      "source": [
        "num_epochs = 300\n",
        "#learning_rate = 0.0001\n",
        "epoch_loss = []\n",
        "model.train()\n",
        "for epoch in range(num_epochs):\n",
        "  current_loss = 0 \n",
        "  for batch, sample in enumerate(train_dataloader):\n",
        "    #print(sample['x'].permute(.shape)\n",
        "    #print(\"x=\", sample['x'].size())\n",
        "    outputs = model.forward(sample['x'].to(device)) #forward pass\n",
        "    #print(\"outputs=\", outputs)\n",
        "    optimizer.zero_grad() #caluclate the gradient, manually setting to 0\n",
        "    #print(outputs.shape)\n",
        "    # obtain the loss function\n",
        "    loss = torch.sqrt(criterion(outputs, sample['y'].to(device)))\n",
        "    loss.backward() #calculates the loss of the loss function\n",
        "    current_loss += loss.item()\n",
        "    optimizer.step() #improve from loss, i.e backprop\n",
        "    #print(\"loss: %1.5f\" % (loss.item())) \n",
        "    if epoch % 20 == 0:\n",
        "      torch.save(model.state_dict(), 'drive/MyDrive/darts_data/lstm4.pd')\n",
        "  epoch_loss.append(current_loss / batch_size)\n",
        "  print(\"Epoch: %d, loss: %1.10f\" % (epoch, current_loss / batch_size)) \n",
        "\n",
        "torch.save(model.state_dict(), 'drive/MyDrive/darts_data/lstm4.pd')\n",
        "#plt.plot(epoch_loss)\n",
        "plt.semilogy(epoch_loss)\n",
        "plt.show()"
      ],
      "execution_count": null,
      "outputs": []
    },
    {
      "cell_type": "code",
      "metadata": {
        "id": "1EaZt25II_an"
      },
      "source": [
        ""
      ],
      "execution_count": 38,
      "outputs": []
    },
    {
      "cell_type": "code",
      "metadata": {
        "colab": {
          "base_uri": "https://localhost:8080/",
          "height": 281
        },
        "id": "8PzqCLIsL1fD",
        "outputId": "b8ba89bb-0373-4622-d83b-2e17cb08b414"
      },
      "source": [
        "test_dataloader = DataLoader(test_dataset, batch_size=len(test_dataset),\n",
        "                        shuffle=True, num_workers=0)\n",
        "\n",
        "eloss = []\n",
        "model.eval()\n",
        "for epoch in range(100):\n",
        "  for batch, sample in enumerate(test_dataloader):\n",
        "    with torch.no_grad():\n",
        "      outputs = model.forward(sample['x'].to(device)) #forward pass  \n",
        "      loss = criterion(outputs, sample['y'].to(device))\n",
        "      eloss.append(loss.item()/batch_size)\n",
        "\n",
        "\n",
        "plt.hist(eloss)\n",
        "plt.show()"
      ],
      "execution_count": 19,
      "outputs": [
        {
          "output_type": "display_data",
          "data": {
            "image/png": "[encoded data removed]",
            "text/plain": [
              "<Figure size 432x288 with 1 Axes>"
            ]
          },
          "metadata": {
            "tags": [],
            "needs_background": "light"
          }
        }
      ]
    },
    {
      "cell_type": "code",
      "metadata": {
        "colab": {
          "base_uri": "https://localhost:8080/",
          "height": 592
        },
        "id": "k5afA2u8Meur",
        "outputId": "00aac7f3-95e4-4e53-a45a-fc9f64b292fd"
      },
      "source": [
        "plot_predictions = False#True \n",
        "plt.rcParams[\"figure.figsize\"] = (15,10)\n",
        "\n",
        "device = torch.device('cuda' if torch.cuda.is_available() else 'cpu')\n",
        "\n",
        "model = LSTMTrial4(input_size = 8, hidden_size = 256, output_size = 2, num_layers = 3, dropout = 0)\n",
        "model.load_state_dict(torch.load(getFullPath('lstm4.pd'), map_location=torch.device('cpu')))\n",
        "model = model.to(device)\n",
        "model.eval()\n",
        "\n",
        "criterion = torch.nn.MSELoss()\n",
        "\n",
        "#2400\n",
        "#datafile = [getFullPath('20210224094951_cut_share.h5')]\n",
        "datafile = [getFullPath('vangel_2021_03_04_01_edited_cut_share.h5')]\n",
        "#datafile = [getFullPath('input_para_2021_03_10_file_1_cut_share.h5'), \n",
        "#             getFullPath('input_para_2021_03_10_file_2_cut_share.h5'), \n",
        "#             getFullPath('input_para_2021_03_10_file_3_cut_share.h5'), \n",
        "#             getFullPath('input_para_2021_03_10_file_4_cut_share.h5')]\n",
        "\n",
        "ds = MagicDartsDataset(datafile, noise=False)\n",
        "\n",
        "test_dataloader = DataLoader(ds, batch_size=1,\n",
        "                        shuffle=True, num_workers=0)\n",
        "\n",
        "max_traj = 300\n",
        "\n",
        "distances = np.zeros((max_traj, 52))\n",
        "\n",
        "model.eval()\n",
        "ix = 0\n",
        "has_point_plots = False\n",
        "\n",
        "for sample_index, sample in enumerate(test_dataloader):\n",
        "  if sample_index == max_traj:\n",
        "    break\n",
        "  with torch.no_grad():\n",
        "    for i in range(0, 52):\n",
        "\n",
        "      cutter = RandomPoints(0, max_time_points=52, fixed_points=i+1)\n",
        "      \n",
        "      sample['x'] = sample['x'].squeeze()\n",
        "      sample['y'] = sample['y'].squeeze()\n",
        "\n",
        "      cut_sample = cutter(sample)\n",
        "\n",
        "      x_full = cut_sample['x'].to(device).unsqueeze(0)\n",
        "      y_full = cut_sample['y'].to(device).unsqueeze(0)\n",
        "\n",
        "      outputs = model.forward(x_full)   \n",
        "      #print(x_full, outputs)\n",
        "      loss = criterion(outputs, y_full)\n",
        "      \n",
        "      npoints = int(52 - x_full[0, :, 7].sum().item()) -1\n",
        "\n",
        "      #print(npoints)\n",
        "\n",
        "      hp_x_hat = outputs[0,0].item()\n",
        "      hp_z_hat = outputs[0,1].item()\n",
        "      hp_x = y_full[0, 0].item()\n",
        "      hp_z = y_full[0, 1].item()\n",
        "\n",
        "      distance = np.sqrt((hp_x_hat - hp_x)**2 + (hp_z_hat - hp_z)**2)\n",
        "      #print(distance)\n",
        "      distances[sample_index, i] = distance\n",
        "\n",
        "      if npoints > 20 and distance > 0.06:\n",
        "        has_point_plots = True \n",
        "        plt.plot([y_full[0,0], outputs[0, 0]], [y_full[0, 1], outputs[0, 1]], c='b') \n",
        "        plt.scatter(outputs[0, 0].item(), outputs[0, 1].item(),c='g') #, alpha = npoints/52)\n",
        "        plt.scatter(y_full[0, 0].item(), y_full[0, 1].item(), c='b', marker='x', s=200)\n",
        "        plt.annotate(f\"{npoints}\", (hp_x_hat, hp_z_hat))\n",
        "      else:\n",
        "        if plot_predictions :\n",
        "          has_point_plots = True \n",
        "          if npoints == 51:\n",
        "            plt.scatter(outputs[0, 0].item(), outputs[0, 1].item(),c='r', s = 150)\n",
        "            plt.plot([y_full[0,0], outputs[0, 0]], [y_full[0, 1], outputs[0, 1]], c='b') \n",
        "          else:\n",
        "            plt.scatter(outputs[0, 0].item(), outputs[0, 1].item(),c='g') #, alpha = npoints/52)\n",
        "          plt.scatter(y_full[0, 0].item(), y_full[0, 1].item(), c='b', marker='x', s=200)\n",
        "          #\n",
        "          if npoints % 5 == 0:\n",
        "            plt.annotate(f\"{npoints}\", (hp_x_hat, hp_z_hat))\n",
        "    \n",
        "if has_point_plots:\n",
        "  plt.title(f'Prediction accuracy ')\n",
        "  plt.xlabel('x [m]')\n",
        "  plt.ylabel('z [m]')\n",
        "  plt.show()\n",
        "\n",
        "plt.boxplot(distances)\n",
        "plt.show()"
      ],
      "execution_count": 27,
      "outputs": [
        {
          "output_type": "display_data",
          "data": {
            "image/png": "[encoded data removed]",
            "text/plain": [
              "<Figure size 1080x720 with 1 Axes>"
            ]
          },
          "metadata": {
            "tags": [],
            "needs_background": "light"
          }
        }
      ]
    },
    {
      "cell_type": "code",
      "metadata": {
        "colab": {
          "base_uri": "https://localhost:8080/",
          "height": 1000
        },
        "id": "38caRqvRSVdA",
        "outputId": "c67d8323-e94a-49b0-d0ec-0c9d83fa3a33"
      },
      "source": [
        "plt.plot(distances.mean(axis=0))\n",
        "plt.show()\n",
        "plt.plot(distances.var(axis=0))"
      ],
      "execution_count": 25,
      "outputs": [
        {
          "output_type": "display_data",
          "data": {
            "image/png": "[encoded data removed]",
            "text/plain": [
              "<Figure size 1080x720 with 1 Axes>"
            ]
          },
          "metadata": {
            "tags": [],
            "needs_background": "light"
          }
        },
        {
          "output_type": "execute_result",
          "data": {
            "text/plain": [
              "[<matplotlib.lines.Line2D at 0x7f11381853d0>]"
            ]
          },
          "metadata": {
            "tags": []
          },
          "execution_count": 25
        },
        {
          "output_type": "display_data",
          "data": {
            "image/png": "[encoded data removed]",
            "text/plain": [
              "<Figure size 1080x720 with 1 Axes>"
            ]
          },
          "metadata": {
            "tags": [],
            "needs_background": "light"
          }
        }
      ]
    }
  ]
}